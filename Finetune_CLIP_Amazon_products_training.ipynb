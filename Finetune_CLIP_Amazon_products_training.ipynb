{
  "cells": [
    {
      "cell_type": "markdown",
      "metadata": {
        "id": "view-in-github",
        "colab_type": "text"
      },
      "source": [
        "<a href=\"https://colab.research.google.com/github/ghostwalkin/Multimodal-finetuning-ImgText-pair/blob/main/Finetune_CLIP_Amazon_products_training.ipynb\" target=\"_parent\"><img src=\"https://colab.research.google.com/assets/colab-badge.svg\" alt=\"Open In Colab\"/></a>"
      ]
    },
    {
      "cell_type": "code",
      "execution_count": 1,
      "metadata": {
        "id": "3R6B253mI9rg"
      },
      "outputs": [],
      "source": [
        "!pip install datasets sentence-transformers huggingface-hub --quiet"
      ]
    },
    {
      "cell_type": "markdown",
      "source": [
        "# Data Download"
      ],
      "metadata": {
        "id": "iLTYqP1UTvCP"
      }
    },
    {
      "cell_type": "code",
      "execution_count": 2,
      "metadata": {
        "id": "U8aPvFHhLfWT"
      },
      "outputs": [],
      "source": [
        "from datasets import load_dataset,Dataset"
      ]
    },
    {
      "cell_type": "code",
      "source": [
        "ds=load_dataset(\"dparijat/amazon-image-title-triplet-250k-cleaned\")"
      ],
      "metadata": {
        "id": "cIYAIoWDRgiT"
      },
      "execution_count": null,
      "outputs": []
    },
    {
      "cell_type": "code",
      "execution_count": null,
      "metadata": {
        "id": "9V_ttLoWJlWH"
      },
      "outputs": [],
      "source": [
        "ds.cleanup_cache_files"
      ]
    },
    {
      "cell_type": "markdown",
      "metadata": {
        "id": "h20XbdZseiGc"
      },
      "source": [
        "# model download and freeze params\n"
      ]
    },
    {
      "cell_type": "code",
      "execution_count": null,
      "metadata": {
        "id": "r59_Onw8RnHF"
      },
      "outputs": [],
      "source": [
        "from sentence_transformers import SentenceTransformer\n",
        "\n",
        "model_name=\"sentence-transformers/clip-ViT-L-14\"\n",
        "model=SentenceTransformer(model_name)"
      ]
    },
    {
      "cell_type": "code",
      "execution_count": null,
      "metadata": {
        "id": "Kz8N2O4HeQHD"
      },
      "outputs": [],
      "source": [
        "trainable_params=[\"projection\"]\n",
        "for name,param in model.named_parameters():\n",
        "  if any(x in name for x in trainable_params):\n",
        "    param.requires_grad=True\n",
        "  else:\n",
        "    param.requires_grad=False"
      ]
    },
    {
      "cell_type": "code",
      "execution_count": null,
      "metadata": {
        "id": "tRwbrHOJfMME"
      },
      "outputs": [],
      "source": [
        "for name,param in model.named_parameters():\n",
        "  if param.requires_grad:\n",
        "    print(name,param,param.shape)"
      ]
    },
    {
      "cell_type": "markdown",
      "metadata": {
        "id": "0Fbh8Gg5l-W0"
      },
      "source": [
        "# evals\n",
        "\n",
        "*   Recall@1: from the predictions w.r.t image is the embeddings for title is in top 1 predictions\n",
        "\n"
      ]
    },
    {
      "cell_type": "code",
      "execution_count": null,
      "metadata": {
        "id": "fldgY3U_i1DQ"
      },
      "outputs": [],
      "source": [
        "import torch\n",
        "from torch import Tensor,nn\n",
        "import torch.nn.functional as F\n",
        "\n",
        "from sentence_transformers.evaluation import SentenceEvaluator\n"
      ]
    },
    {
      "cell_type": "code",
      "execution_count": null,
      "metadata": {
        "id": "oGePIPMoNM9p"
      },
      "outputs": [],
      "source": [
        "def calculate_recall_at_k(image_list:list, text_list: list, k=1):\n",
        "    assert len(image_list) == len(text_list)\n",
        "    image_embeddings = model.encode(image_list, batch_size=32, show_progress_bar=True, convert_to_tensor=True)\n",
        "    text_embeddings = model.encode(text_list, batch_size=32, show_progress_bar=True, convert_to_tensor=True)\n",
        "\n",
        "    correct = 0\n",
        "    for i in range(len(image_list)):\n",
        "        similarity = F.cosine_similarity(image_embeddings[i].unsqueeze(0), text_embeddings, dim=1)\n",
        "        _, top_indices = torch.topk(similarity, k=k)\n",
        "        if i in top_indices:\n",
        "            correct += 1\n",
        "    return correct / len(image_list)\n",
        "\n",
        "recall_at_1 = calculate_recall_at_k(ds[\"train\"][\"anchor\"], ds[\"train\"][\"positive\"], k=1)\n",
        "print(f\"Recall@1 for train: {recall_at_1}\")"
      ]
    },
    {
      "cell_type": "code",
      "execution_count": null,
      "metadata": {
        "id": "kfB4ucnCU-Jv"
      },
      "outputs": [],
      "source": [
        "recall_val=calculate_recall_at_k(ds[\"valid\"][\"anchor\"], ds[\"valid\"][\"positive\"], k=1)\n",
        "print(f\"Recall@1 for val: {recall_val}\")"
      ]
    },
    {
      "cell_type": "code",
      "source": [
        "recall_test=calculate_recall_at_k(ds[\"test\"][\"anchor\"], ds[\"test\"][\"positive\"], k=1)\n",
        "print(f\"Recall@1 for test: {recall_test}\")"
      ],
      "metadata": {
        "id": "lfAbEQoEUGSQ"
      },
      "execution_count": null,
      "outputs": []
    },
    {
      "cell_type": "code",
      "execution_count": null,
      "metadata": {
        "id": "yfSIQi0jbfnp"
      },
      "outputs": [],
      "source": [
        "from typing import List, Dict\n",
        "from sentence_transformers.evaluation import SentenceEvaluator\n",
        "class ImageTextRetrievalEvaluator(SentenceEvaluator):\n",
        "    def __init__(\n",
        "        self,\n",
        "        images: List,\n",
        "        texts: List[str],\n",
        "        name: str = '',\n",
        "        k: int = 1,\n",
        "        batch_size: int = 32,\n",
        "        show_progress_bar: bool = False\n",
        "    ):\n",
        "        self.images = images\n",
        "        self.texts = texts\n",
        "        self.name = name\n",
        "        self.k = k\n",
        "        self.batch_size = batch_size\n",
        "        self.show_progress_bar = show_progress_bar\n",
        "\n",
        "    def __call__(self,\n",
        "        model: SentenceTransformer,\n",
        "        output_path: str = None,\n",
        "        epoch: int = -1,\n",
        "        steps: int = -1) -> Dict[str, float]:\n",
        "\n",
        "        # Get embeddings for all images\n",
        "        # Get embeddings for all images in batches\n",
        "        img_embeddings=model.encode(self.images,\n",
        "            batch_size=self.batch_size,\n",
        "            show_progress_bar=self.show_progress_bar,\n",
        "            convert_to_tensor=True\n",
        "\n",
        "        )\n",
        "        # Get embeddings for all texts in batches\n",
        "        txt_embeddings=model.encode(self.texts,\n",
        "            batch_size=self.batch_size,\n",
        "            show_progress_bar=self.show_progress_bar,\n",
        "            convert_to_tensor=True\n",
        "\n",
        "        )\n",
        "\n",
        "\n",
        "        correct = 0\n",
        "        for i in range(img_embeddings.shape[0]):\n",
        "            similarity = F.cosine_similarity(img_embeddings[i].unsqueeze(0), txt_embeddings, dim=1)\n",
        "            _, top_indices = torch.topk(similarity, k=1)\n",
        "            if i in top_indices:\n",
        "                correct += 1\n",
        "\n",
        "        recall_at_k=correct/img_embeddings.shape[0]\n",
        "\n",
        "\n",
        "        return {f'{self.name}_Recall@{self.k}': recall_at_k}\n",
        "\n",
        "\n",
        "\n",
        "def create_recall_evaluator(set_name, k=1):\n",
        "    \"\"\"\n",
        "        Create triplet evaluator for \"train\", \"valid\", or \"test\" split\n",
        "    \"\"\"\n",
        "\n",
        "    return ImageTextRetrievalEvaluator(\n",
        "        images=ds[f\"{set_name}\"][\"anchor\"],\n",
        "        texts=ds[f\"{set_name}\"][\"positive\"],\n",
        "        name=f\"clip_score-{set_name}\",\n",
        "        k=k\n",
        "    )"
      ]
    },
    {
      "cell_type": "code",
      "execution_count": null,
      "metadata": {
        "id": "8N8wLxPqiqdr"
      },
      "outputs": [],
      "source": [
        "evaluator_recall_train = create_recall_evaluator(\"train\", k=1)\n",
        "evaluator_recall_valid = create_recall_evaluator(\"valid\", k=1)\n"
      ]
    },
    {
      "cell_type": "markdown",
      "metadata": {
        "id": "igNArvnFbGNO"
      },
      "source": [
        "# training args and trainer"
      ]
    },
    {
      "cell_type": "code",
      "execution_count": null,
      "metadata": {
        "id": "GGH37aY4Jw2R"
      },
      "outputs": [],
      "source": [
        "torch.cuda.empty_cache()"
      ]
    },
    {
      "cell_type": "code",
      "execution_count": null,
      "metadata": {
        "id": "SyRr7ThlD4Iz"
      },
      "outputs": [],
      "source": [
        "from sentence_transformers.training_args import SentenceTransformerTrainingArguments\n",
        "from sentence_transformers.trainer import SentenceTransformerTrainer\n",
        "from sentence_transformers.losses import MultipleNegativesRankingLoss,CachedMultipleNegativesRankingLoss"
      ]
    },
    {
      "cell_type": "code",
      "execution_count": null,
      "metadata": {
        "id": "2ZTYt05zsgpX"
      },
      "outputs": [],
      "source": [
        "#@title args\n",
        "\n",
        "#loss=MultipleNegativesRankingLoss(model)\n",
        "loss=CachedMultipleNegativesRankingLoss(model)\n",
        "\n",
        "num_epochs = 10\n",
        "batch_size = 32\n",
        "lr = 1e-5\n",
        "finetuned_model_name = \"clip-amazon-product-title-similarity-v4\"\n",
        "\n",
        "train_args = SentenceTransformerTrainingArguments(\n",
        "    output_dir=f\"models/{finetuned_model_name}\",\n",
        "    num_train_epochs=num_epochs,\n",
        "    per_device_train_batch_size=batch_size,\n",
        "    per_device_eval_batch_size=batch_size,\n",
        "    learning_rate=lr,\n",
        "    fp16=True,\n",
        "    gradient_checkpointing=True,\n",
        "    gradient_accumulation_steps=2,\n",
        "    torch_empty_cache_steps=4,\n",
        "\n",
        "    seed=42,\n",
        "    lr_scheduler_type=\"linear\",\n",
        "\n",
        "\n",
        "    # Evaluation settings\n",
        "    eval_strategy=\"epoch\",\n",
        "    eval_steps=1,\n",
        "    logging_steps=1,\n",
        ")"
      ]
    },
    {
      "cell_type": "code",
      "execution_count": null,
      "metadata": {
        "id": "c-uSr-GntW7j"
      },
      "outputs": [],
      "source": [
        "#@title trainer\n",
        "import os\n",
        "os.environ[\"TORCH_LOGS\"] = \"+dynamo\"  # Enable dynamo logs\n",
        "os.environ[\"TORCHDYNAMO_VERBOSE\"] = \"1\"\n",
        "\n",
        "trainer = SentenceTransformerTrainer(\n",
        "    model=model,\n",
        "    args=train_args,\n",
        "    train_dataset=ds[\"train\"],\n",
        "    eval_dataset=ds[\"valid\"],\n",
        "    evaluator=[evaluator_recall_train, evaluator_recall_valid],\n",
        "    loss=loss,\n",
        "    callbacks=None\n",
        ")\n",
        "\n",
        "trainer.train()"
      ]
    },
    {
      "cell_type": "code",
      "execution_count": null,
      "metadata": {
        "id": "y6Zzgek7qPnh"
      },
      "outputs": [],
      "source": [
        "model2=SentenceTransformer(\"/content/models/clip-amazon-product-title-similarity-v4/checkpoint-1870\")"
      ]
    },
    {
      "cell_type": "markdown",
      "source": [
        "# evaluating finetuned model"
      ],
      "metadata": {
        "id": "cEGDyUS2Uhu2"
      }
    },
    {
      "cell_type": "code",
      "execution_count": null,
      "metadata": {
        "id": "KrJ8xI5l8TMS"
      },
      "outputs": [],
      "source": [
        "def calculate_recall_at_1_new_model(sentencemodel,dataset_split, k=1):\n",
        "    sentencemodel.eval()\n",
        "\n",
        "    assert len(dataset_split[\"anchor\"]) == len(dataset_split[\"positive\"])\n",
        "    image_embeddings = sentencemodel.encode(dataset_split[\"anchor\"], batch_size=32, show_progress_bar=True, convert_to_tensor=True)\n",
        "    text_embeddings = sentencemodel.encode(dataset_split[\"positive\"], batch_size=32, show_progress_bar=True, convert_to_tensor=True)\n",
        "\n",
        "    correct = 0\n",
        "    for i in range(len(dataset_split[\"positive\"])):\n",
        "        similarity = F.cosine_similarity(image_embeddings[i].unsqueeze(0), text_embeddings, dim=1)\n",
        "        _, top_indices = torch.topk(similarity, k=k)\n",
        "        if i in top_indices:\n",
        "            correct += 1\n",
        "    return correct / len(dataset_split[\"positive\"])"
      ]
    },
    {
      "cell_type": "code",
      "execution_count": null,
      "metadata": {
        "id": "UJODXdvc9MaR"
      },
      "outputs": [],
      "source": [
        "calculate_recall_at_1_new_model(model2,ds[\"test\"],k=1)"
      ]
    }
  ],
  "metadata": {
    "accelerator": "GPU",
    "colab": {
      "gpuType": "T4",
      "provenance": [],
      "include_colab_link": true
    },
    "kernelspec": {
      "display_name": ".venv",
      "language": "python",
      "name": "python3"
    },
    "language_info": {
      "codemirror_mode": {
        "name": "ipython",
        "version": 3
      },
      "file_extension": ".py",
      "mimetype": "text/x-python",
      "name": "python",
      "nbconvert_exporter": "python",
      "pygments_lexer": "ipython3",
      "version": "3.12.3"
    }
  },
  "nbformat": 4,
  "nbformat_minor": 0
}